{
 "cells": [
  {
   "cell_type": "code",
   "execution_count": null,
   "metadata": {},
   "outputs": [],
   "source": [
    "import numpy as np  \n",
    "from keras.models import Sequential  \n",
    "from keras.layers.core import Dense, Activation  \n",
    "from keras.optimizers import SGD  \n",
    "from keras.utils import np_utils      \n",
    "from keras.utils.vis_utils import plot_model  \n",
    "def run():  \n",
    "    # 构建神经网络  \n",
    "    model = Sequential()  \n",
    "    model.add(Dense(4, input_dim=2, kernel_initializer='uniform'))  \n",
    "    model.add(Activation('relu'))  \n",
    "    model.add(Dense(2, kernel_initializer='uniform'))  \n",
    "    model.add(Activation('sigmoid'))  \n",
    "    sgd = SGD(lr=0.05, decay=1e-6, momentum=0.9, nesterov=True)  \n",
    "    model.compile(loss='binary_crossentropy', optimizer=sgd, metrics=['accuracy'])  \n",
    "    # 神经网络可视化  \n",
    "    plot_model(model, to_file='model.png')  \n",
    "if __name__ == '__main__':  \n",
    "    run()\n"
   ]
  },
  {
   "cell_type": "code",
   "execution_count": null,
   "metadata": {
    "collapsed": true
   },
   "outputs": [],
   "source": []
  },
  {
   "cell_type": "code",
   "execution_count": null,
   "metadata": {
    "collapsed": true
   },
   "outputs": [],
   "source": []
  }
 ],
 "metadata": {
  "kernelspec": {
   "display_name": "Python 3",
   "language": "python",
   "name": "python3"
  },
  "language_info": {
   "codemirror_mode": {
    "name": "ipython",
    "version": 3
   },
   "file_extension": ".py",
   "mimetype": "text/x-python",
   "name": "python",
   "nbconvert_exporter": "python",
   "pygments_lexer": "ipython3",
   "version": "3.6.3"
  }
 },
 "nbformat": 4,
 "nbformat_minor": 2
}
